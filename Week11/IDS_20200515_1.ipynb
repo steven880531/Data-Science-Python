{
  "nbformat": 4,
  "nbformat_minor": 0,
  "metadata": {
    "colab": {
      "name": "Untitled1.ipynb",
      "provenance": []
    },
    "kernelspec": {
      "name": "python3",
      "display_name": "Python 3"
    }
  },
  "cells": [
    {
      "cell_type": "code",
      "metadata": {
        "id": "DmaKwsYpNYf7",
        "colab_type": "code",
        "colab": {
          "base_uri": "https://localhost:8080/",
          "height": 52
        },
        "outputId": "23a37726-575d-454f-9042-887e29be11b5"
      },
      "source": [
        "#1. 5\n",
        "#印出 xx市 的每人每月最低生活費為 xx,xxx\n",
        "\n",
        "citycost_dic = {\n",
        "    \"臺北市\" : 17005,\n",
        "    \"新北市\" : 15500,\n",
        "    \"桃園市\" : 15281,\n",
        "    \"臺中市\" : 14596,\n",
        "    \"臺南市\" : 12388,\n",
        "    \"高雄市\" : 13099,\n",
        "    \"金門縣\" : 11648,\n",
        "    \"連江縣\" : 11648\n",
        "              }\n",
        "\n",
        "living_area = input(\"請輸入您的居住城市：\")\n",
        "living_cost = citycost_dic[living_area]\n",
        "print(\"{} 的每人每月最低生活費為 {:,}\".format(living_area, living_cost))"
      ],
      "execution_count": 2,
      "outputs": [
        {
          "output_type": "stream",
          "text": [
            "請輸入您的居住城市：臺北市\n",
            "臺北市 的每人每月最低生活費為 17,005\n"
          ],
          "name": "stdout"
        }
      ]
    }
  ]
}