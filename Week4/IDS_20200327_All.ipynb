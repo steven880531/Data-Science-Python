{
 "cells": [
  {
   "cell_type": "code",
   "execution_count": 1,
   "metadata": {},
   "outputs": [
    {
     "name": "stdout",
     "output_type": "stream",
     "text": [
      "77.0\n",
      "25.0\n"
     ]
    }
   ],
   "source": [
    "#P2-27/28：溫度轉換\n",
    "\n",
    "#【運算符號的使用】\n",
    "#溫度單位^的轉換，與四則運算括號的使用\n",
    "#(攝氏與華氏^)\n",
    "\n",
    "#將目前的攝氏氣溫轉換為華氏氣溫\n",
    "current_tempc = 25\n",
    "current_tempf = current_tempc*9/5+32\n",
    "print(current_tempf)\n",
    "\n",
    "#將目前的華氏氣溫轉換為攝氏氣溫\n",
    "current_tempc = (current_tempf-32)*5/9\n",
    "print(current_tempc)"
   ]
  },
  {
   "cell_type": "code",
   "execution_count": 2,
   "metadata": {},
   "outputs": [
    {
     "name": "stdout",
     "output_type": "stream",
     "text": [
      "31.507201646090532\n"
     ]
    }
   ],
   "source": [
    "#P2-29：計算俠客歐尼爾巔峰時期的BMI\n",
    "\n",
    "#【運算符號的使用】\n",
    "#BMI的計算，與運算符號^的使用\n",
    "\n",
    "shaq_height = 216\n",
    "shaq_weight = 147\n",
    "shaq_bmi = shaq_weight / (shaq_height/100)**2\n",
    "print(shaq_bmi)"
   ]
  },
  {
   "cell_type": "code",
   "execution_count": 3,
   "metadata": {},
   "outputs": [
    {
     "name": "stdout",
     "output_type": "stream",
     "text": [
      "Let's put aside the fact that you \"accidentally\" pick up my grandmother's ring.\n",
      "Let's put aside the fact that you \"accidentally\" pick up my grandmother's ring.\n",
      "Let's put aside the fact that you \"accidentally\" pick up my grandmother's ring.\n"
     ]
    }
   ],
   "source": [
    "#P2-42：What did Ross say?\n",
    "\n",
    "#【單雙引號的不同，與跳脫字元\"\\\"的使用】\n",
    "\n",
    "#使用單引號包覆文字\n",
    "ross_said1 = 'Let\\'s put aside the fact that you \"accidentally\" pick up my grandmother\\'s ring.'\n",
    "print(ross_said1)\n",
    "\n",
    "#使用雙引號包覆文字\n",
    "ross_said2 = \"Let's put aside the fact that you \\\"accidentally\\\" pick up my grandmother's ring.\"\n",
    "print(ross_said2)\n",
    "\n",
    "#使用三個雙引號包覆文字\n",
    "ross_said23 = \"\"\"Let's put aside the fact that you \"accidentally\" pick up my grandmother's ring.\"\"\"\n",
    "print(ross_said23)"
   ]
  },
  {
   "cell_type": "code",
   "execution_count": 4,
   "metadata": {},
   "outputs": [
    {
     "name": "stdout",
     "output_type": "stream",
     "text": [
      "請輸入你所在的城市：台北市\n",
      "請輸入目前的天氣：寒冷\n",
      "我在台北市，天氣寒冷\n"
     ]
    }
   ],
   "source": [
    "#P2-50：讓使用者輸入城市名稱與天氣，並印出「我在OOO，天氣OOO」\n",
    "\n",
    "#【函數】\n",
    "#函數\"input\"與\"print\"資料導入的使用\n",
    "\n",
    "city = input(\"請輸入你所在的城市：\")\n",
    "weather = input(\"請輸入目前的天氣：\")\n",
    "print(\"我在{}，天氣{}\".format(city, weather))\n"
   ]
  },
  {
   "cell_type": "code",
   "execution_count": 5,
   "metadata": {},
   "outputs": [
    {
     "name": "stdout",
     "output_type": "stream",
     "text": [
      "請輸入球員姓名：俠客歐尼爾\n",
      "請輸入球員身高(cm)：216\n",
      "請輸入球員體重(kg)：147\n",
      "俠客歐尼爾的身體質量指數為：31.51\n",
      "俠客歐尼爾是否過重：True\n"
     ]
    }
   ],
   "source": [
    "#P2-68：球員BMI與過重判斷\n",
    "\n",
    "#【函數，數值格式調整，布林，資料型態轉換】\n",
    "#函數\"input\"與\"print\"資料提取填空的使用\n",
    "#把\"input\"函數輸入的\"文字\"轉換成\"浮點數\"\n",
    "#把\"print\"函數導入的數值調整成小數點兩位\n",
    "\n",
    "player_name = input(\"請輸入球員姓名：\")\n",
    "player_height = input(\"請輸入球員身高(cm)：\")\n",
    "player_weight = input(\"請輸入球員體重(kg)：\")\n",
    "player_height = float(player_height)\n",
    "player_weight = float(player_weight)\n",
    "player_bmi = player_weight / (player_height/100)**2\n",
    "print(\"{}的身體質量指數為：{:.2f}\".format(player_name, player_bmi))\n",
    "print(\"{}是否過重：{}\".format(player_name, player_bmi > 30))"
   ]
  },
  {
   "cell_type": "code",
   "execution_count": null,
   "metadata": {},
   "outputs": [],
   "source": []
  }
 ],
 "metadata": {
  "kernelspec": {
   "display_name": "Python 3",
   "language": "python",
   "name": "python3"
  },
  "language_info": {
   "codemirror_mode": {
    "name": "ipython",
    "version": 3
   },
   "file_extension": ".py",
   "mimetype": "text/x-python",
   "name": "python",
   "nbconvert_exporter": "python",
   "pygments_lexer": "ipython3",
   "version": "3.7.6"
  }
 },
 "nbformat": 4,
 "nbformat_minor": 4
}
