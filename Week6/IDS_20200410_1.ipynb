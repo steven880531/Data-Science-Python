{
 "cells": [
  {
   "cell_type": "code",
   "execution_count": 2,
   "metadata": {},
   "outputs": [
    {
     "name": "stdout",
     "output_type": "stream",
     "text": [
      "請輸入您身分證字號的尾數：3\n",
      "<class 'int'>\n",
      "True\n"
     ]
    }
   ],
   "source": [
    "#P2-56：檢驗身分證字號尾數是否為奇數\n",
    "\n",
    "#【函數，資料型態轉換】\n",
    "#函數\"input\"的使用\n",
    "#把\"input\"函數輸入的\"文字\"轉換成\"整數\"\n",
    "#把布林命名成物件\n",
    "\n",
    "id_last_digit =  input(\"請輸入您身分證字號的尾數：\")\n",
    "id_last_digit = int(id_last_digit)\n",
    "print(type(id_last_digit))\n",
    "modulo = id_last_digit % 2\n",
    "ans = modulo == 1\n",
    "print(ans)"
   ]
  },
  {
   "cell_type": "code",
   "execution_count": null,
   "metadata": {},
   "outputs": [],
   "source": []
  }
 ],
 "metadata": {
  "kernelspec": {
   "display_name": "Python 3",
   "language": "python",
   "name": "python3"
  },
  "language_info": {
   "codemirror_mode": {
    "name": "ipython",
    "version": 3
   },
   "file_extension": ".py",
   "mimetype": "text/x-python",
   "name": "python",
   "nbconvert_exporter": "python",
   "pygments_lexer": "ipython3",
   "version": "3.7.6"
  }
 },
 "nbformat": 4,
 "nbformat_minor": 4
}
