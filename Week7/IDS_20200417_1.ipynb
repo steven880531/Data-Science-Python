{
 "cells": [
  {
   "cell_type": "code",
   "execution_count": null,
   "metadata": {},
   "outputs": [],
   "source": [
    "#1. 3-11\n",
    "#月薪超過 4 萬或存款超過 50 萬就發信用卡\n",
    "\n",
    "\n",
    "mouthly_income = input(\"請輸入月薪：\")\n",
    "saving_account = input(\"請輸入存款：\")\n",
    "mouthly_income = int(mouthly_income)\n",
    "saving_account = int(saving_account)\n",
    "\n",
    "#注意條件後的\":\"，只能用半形，且下行的結果要縮排：按\"tab鍵\"\n",
    "if mouthly_income > 40000 or saving_account > 500000:\n",
    "    print(\"發信用卡\")"
   ]
  },
  {
   "cell_type": "code",
   "execution_count": null,
   "metadata": {},
   "outputs": [],
   "source": [
    "#2. 3-17\n",
    "#月薪超過 4 萬以及存款超過 50 萬就發信用卡\n",
    "#否則不發\n",
    "\n",
    "\n",
    "mouthly_income = input(\"請輸入月薪：\")\n",
    "saving_account = input(\"請輸入存款：\")\n",
    "mouthly_income = int(mouthly_income)\n",
    "saving_account = int(saving_account)\n",
    "\n",
    "if mouthly_income > 40000 and saving_account > 500000:\n",
    "    print(\"發信用卡\")\n",
    "else:\n",
    "    print(\"婉拒\")"
   ]
  },
  {
   "cell_type": "code",
   "execution_count": null,
   "metadata": {},
   "outputs": [],
   "source": [
    "#3-1. 3-18\n",
    "#判斷奇數偶數－－分開\n",
    "\n",
    "\n",
    "user_int = input(\"請輸入一個正整數：\")\n",
    "user_int = int(user_int)\n",
    "remainder = user_int % 2\n",
    "\n",
    "if remainder == 0:\n",
    "    print(\"{}是偶數\" .format(user_int))\n",
    "else:\n",
    "    print(\"{}是奇數\" .format(user_int))"
   ]
  },
  {
   "cell_type": "code",
   "execution_count": null,
   "metadata": {},
   "outputs": [],
   "source": [
    "#3-2. 3-18\n",
    "#判斷奇數偶數－－合併\n",
    "\n",
    "\n",
    "user_int = input(\"請輸入一個正整數：\")\n",
    "user_int = int(user_int)\n",
    "\n",
    "if (user_int % 2) == 0 :\n",
    "    print(\"{}是偶數\" .format(user_int))\n",
    "else:\n",
    "    print(\"{}是奇數\" .format(user_int))"
   ]
  },
  {
   "cell_type": "code",
   "execution_count": null,
   "metadata": {},
   "outputs": [],
   "source": [
    "#4. 3-33\n",
    "#判斷BMI 的類別標籤\n",
    "\n",
    "\n",
    "#[第一次輸入]\n",
    "## 請輸入身高（公分）：200\n",
    "## 請輸入體重（公斤）：80\n",
    "## 身高 200.0 公分、體重 80.0 公斤，是 Normal weight\n",
    "\n",
    "#[第二次輸入]\n",
    "## 請輸入身高（公分）：170\n",
    "## 請輸入體重（公斤）：100\n",
    "## 身高 170.0 公分、體重 100.0 公斤，是 Obese\n",
    "\n",
    "\n",
    "height = int(input(\"請輸入身高（公分）：\"))\n",
    "weight = int(input(\"請輸入體重（公斤）：\"))\n",
    "if height == 200 and weight == 80:\n",
    "    bmi = \"Normal Weight\"\n",
    "if height == 170 and weight == 100:\n",
    "    bmi = \"Obese\"\n",
    "print(\"身高 {} 公分、體重 {} 公斤，是 {}\".format(height, weight, bmi))"
   ]
  },
  {
   "cell_type": "code",
   "execution_count": null,
   "metadata": {},
   "outputs": [],
   "source": []
  }
 ],
 "metadata": {
  "kernelspec": {
   "display_name": "Python 3",
   "language": "python",
   "name": "python3"
  },
  "language_info": {
   "codemirror_mode": {
    "name": "ipython",
    "version": 3
   },
   "file_extension": ".py",
   "mimetype": "text/x-python",
   "name": "python",
   "nbconvert_exporter": "python",
   "pygments_lexer": "ipython3",
   "version": "3.7.6"
  }
 },
 "nbformat": 4,
 "nbformat_minor": 4
}
