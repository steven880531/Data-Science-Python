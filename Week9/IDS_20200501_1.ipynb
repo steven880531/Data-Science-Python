{
 "cells": [
  {
   "cell_type": "code",
   "execution_count": 1,
   "metadata": {},
   "outputs": [
    {
     "name": "stdout",
     "output_type": "stream",
     "text": [
      "請輸入起始的正整數：5\n",
      "請輸入終止的正整數：10\n",
      "===============\n",
      "5 到 10 之間的奇數有 3 個\n"
     ]
    }
   ],
   "source": [
    "#1. 4-25\n",
    "#介於 x 到 y 之間的奇數有幾個（包含 x 與 y 假如它們是奇數）\n",
    "  \n",
    "x = int(input(\"請輸入起始的正整數：\"))\n",
    "y = int(input(\"請輸入終止的正整數：\"))\n",
    "odd_counter = 0\n",
    "i = x\n",
    "while i <= y:\n",
    "    if i % 2 == 1:\n",
    "        odd_counter += 1\n",
    "    i += 1\n",
    "\n",
    "print(\"===============\")\n",
    "print(\"{} 到 {} 之間的奇數有 {} 個\".format(x, y, odd_counter))"
   ]
  },
  {
   "cell_type": "code",
   "execution_count": 2,
   "metadata": {},
   "outputs": [
    {
     "name": "stdout",
     "output_type": "stream",
     "text": [
      "請輸入起始的正整數：5\n",
      "請輸入終止的正整數：10\n",
      "===============\n",
      "5 到 10 之間的奇數加總為 21\n"
     ]
    }
   ],
   "source": [
    "#2. 4-26\n",
    "#介於 x 到 y 之間的奇數加總為何（包含 x 與 y 假如它們是奇數）\n",
    "\n",
    "x = int(input(\"請輸入起始的正整數：\"))\n",
    "y = int(input(\"請輸入終止的正整數：\"))\n",
    "odd_summation = 0\n",
    "i = x\n",
    "while i <= y:\n",
    "    if i % 2 == 1:\n",
    "        odd_summation += i\n",
    "    i += 1\n",
    "\n",
    "print(\"===============\")\n",
    "print(\"{} 到 {} 之間的奇數加總為 {}\".format(x, y, odd_summation))"
   ]
  },
  {
   "cell_type": "code",
   "execution_count": null,
   "metadata": {},
   "outputs": [],
   "source": []
  }
 ],
 "metadata": {
  "kernelspec": {
   "display_name": "Python 3",
   "language": "python",
   "name": "python3"
  },
  "language_info": {
   "codemirror_mode": {
    "name": "ipython",
    "version": 3
   },
   "file_extension": ".py",
   "mimetype": "text/x-python",
   "name": "python",
   "nbconvert_exporter": "python",
   "pygments_lexer": "ipython3",
   "version": "3.7.6"
  }
 },
 "nbformat": 4,
 "nbformat_minor": 4
}
